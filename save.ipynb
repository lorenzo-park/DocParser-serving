{
 "metadata": {
  "language_info": {
   "codemirror_mode": {
    "name": "ipython",
    "version": 3
   },
   "file_extension": ".py",
   "mimetype": "text/x-python",
   "name": "python",
   "nbconvert_exporter": "python",
   "pygments_lexer": "ipython3",
   "version": "3.7.10"
  },
  "orig_nbformat": 2,
  "kernelspec": {
   "name": "python3710jvsc74a57bd0137d46d0b3ae3a83faf9e99a22129645075b4868c1d370b3a146e38f3cbd3abc",
   "display_name": "Python 3.7.10 64-bit ('ds-serving-test': conda)"
  },
  "metadata": {
   "interpreter": {
    "hash": "137d46d0b3ae3a83faf9e99a22129645075b4868c1d370b3a146e38f3cbd3abc"
   }
  }
 },
 "nbformat": 4,
 "nbformat_minor": 2,
 "cells": [
  {
   "cell_type": "code",
   "execution_count": 1,
   "metadata": {},
   "outputs": [
    {
     "output_type": "stream",
     "name": "stderr",
     "text": [
      "Using TensorFlow backend.\n"
     ]
    }
   ],
   "source": [
    "import json\n",
    "import os\n",
    "\n",
    "from run import DocparserService\n",
    "from config import SERVING_MODEL_PATH, VERSION_NUMBER"
   ]
  },
  {
   "cell_type": "code",
   "execution_count": 2,
   "metadata": {
    "tags": []
   },
   "outputs": [
    {
     "output_type": "stream",
     "name": "stdout",
     "text": [
      "2021-05-13 23:33:19,690 - PIL.PngImagePlugin - DEBUG - STREAM b'IHDR' 16 13\n",
      "2021-05-13 23:33:19,690 - PIL.PngImagePlugin - DEBUG - STREAM b'iCCP' 41 2774\n",
      "2021-05-13 23:33:19,690 - PIL.PngImagePlugin - DEBUG - iCCP profile name b'ICC Profile'\n",
      "2021-05-13 23:33:19,691 - PIL.PngImagePlugin - DEBUG - Compression method 0\n",
      "2021-05-13 23:33:19,691 - PIL.PngImagePlugin - DEBUG - STREAM b'eXIf' 2827 138\n",
      "2021-05-13 23:33:19,692 - PIL.PngImagePlugin - DEBUG - b'eXIf' 2827 138 (unknown)\n",
      "2021-05-13 23:33:19,692 - PIL.PngImagePlugin - DEBUG - STREAM b'pHYs' 2977 9\n",
      "2021-05-13 23:33:19,692 - PIL.PngImagePlugin - DEBUG - STREAM b'iTXt' 2998 472\n",
      "2021-05-13 23:33:19,692 - PIL.PngImagePlugin - DEBUG - STREAM b'iDOT' 3482 28\n",
      "2021-05-13 23:33:19,693 - PIL.PngImagePlugin - DEBUG - b'iDOT' 3482 28 (unknown)\n",
      "2021-05-13 23:33:19,693 - PIL.PngImagePlugin - DEBUG - STREAM b'IDAT' 3522 16384\n",
      "2021-05-13 23:33:23,670 - docparser.stage2_structure_parser - DEBUG - creating structure for current img: \n",
      "2021-05-13 23:33:23,671 - docparser.stage2_structure_parser - DEBUG - excluded 2 annotation bboxes of meta types\n",
      "2021-05-13 23:33:23,672 - docparser.stage2_structure_parser - DEBUG - excluded 2 annotation bboxes of meta types\n",
      "2021-05-13 23:33:23,673 - docparser.stage2_structure_parser - DEBUG - merging two nested bounding boxes (4/10) of same category: heading\n",
      "2021-05-13 23:33:23,673 - docparser.stage2_structure_parser - DEBUG - merging two nested bounding boxes (11/15) of same category: heading\n",
      "2021-05-13 23:33:23,674 - docparser.stage2_structure_parser - DEBUG - excluded 2 annotation bboxes of meta types\n",
      "2021-05-13 23:33:23,675 - docparser.stage2_structure_parser - DEBUG - looking for children to wrap: defaultdict(<class 'set'>, {'figure': {'figure_caption', 'figure_graphic'}, 'figure_graphic': {'figure_graphic'}})\n",
      "2021-05-13 23:33:23,675 - docparser.stage2_structure_parser - DEBUG - excluded 2 annotation bboxes of meta types\n",
      "2021-05-13 23:33:23,676 - docparser.stage2_structure_parser - DEBUG - Invalid child removed for parent 12 (figure_graphic): figure_graphic\n",
      "2021-05-13 23:33:23,676 - docparser.stage2_structure_parser - DEBUG - Invalid child removed for parent 12 (figure_graphic): figure_graphic\n",
      "2021-05-13 23:33:23,676 - docparser.stage2_structure_parser - DEBUG - Invalid child removed for parent 12 (figure_graphic): figure_graphic\n",
      "2021-05-13 23:33:23,677 - docparser.utils.structure_utils - DEBUG - 13/13 size for all bbox/relation ids: {0, 1, 2, 3, 4, 5, 6, 7, 8, 9, 11, 12, 14}, {0, 1, 2, 3, 4, 5, 6, 7, 8, 9, 11, 12, 14}\n",
      "2021-05-13 23:33:23,678 - docparser.utils.structure_utils - DEBUG - Generated annotation ids: {0, 1, 2, 3, 4, 5, 6, 7, 8, 9, 11, 12, 13, 14, 16}, original bbox ids: {0, 1, 2, 3, 4, 5, 6, 7, 8, 9, 11, 12, 13, 14, 16}\n",
      "[{'orig_img_shape': [1888, 1494], 'prediction_list': [{'pred_nr': 0, 'class_name': 'figure_caption', 'pred_score': 0.9989311, 'bbox_orig_coords': (750.0, 733.0, 862.0, 1334.0)}, {'pred_nr': 1, 'class_name': 'abstract', 'pred_score': 0.9983487, 'bbox_orig_coords': (540.0, 74.0, 1101.0, 738.0)}, {'pred_nr': 2, 'class_name': 'content_block', 'pred_score': 0.998197, 'bbox_orig_coords': (903.0, 737.0, 1675.0, 1348.0)}, {'pred_nr': 3, 'class_name': 'content_block', 'pred_score': 0.9980743, 'bbox_orig_coords': (1261.0, 121.0, 1679.0, 694.0)}, {'pred_nr': 4, 'class_name': 'heading', 'pred_score': 0.9977761, 'bbox_orig_coords': (1184.0, 73.0, 1218.0, 729.0)}, {'pred_nr': 5, 'class_name': 'figure', 'pred_score': 0.99233913, 'bbox_orig_coords': (453.0, 733.0, 862.0, 1369.0)}, {'pred_nr': 6, 'class_name': 'figure_graphic', 'pred_score': 0.9914569, 'bbox_orig_coords': (502.0, 970.0, 691.0, 1153.0)}, {'pred_nr': 7, 'class_name': 'figure_graphic', 'pred_score': 0.9878548, 'bbox_orig_coords': (515.0, 1152.0, 696.0, 1352.0)}, {'pred_nr': 8, 'class_name': 'figure_graphic', 'pred_score': 0.98425645, 'bbox_orig_coords': (476.0, 747.0, 708.0, 952.0)}, {'pred_nr': 9, 'class_name': 'heading', 'pred_score': 0.9741605, 'bbox_orig_coords': (203.0, 237.0, 250.0, 1197.0)}, {'pred_nr': 11, 'class_name': 'heading', 'pred_score': 0.9614392, 'bbox_orig_coords': (471.0, 111.0, 509.0, 696.0)}, {'pred_nr': 12, 'class_name': 'figure_graphic', 'pred_score': 0.95183647, 'bbox_orig_coords': (476.0, 747.0, 708.0, 1352.0)}, {'pred_nr': 13, 'class_name': 'page_nr', 'pred_score': 0.9441421, 'bbox_orig_coords': (1751.0, 718.0, 1778.0, 734.0)}, {'pred_nr': 14, 'class_name': 'heading', 'pred_score': 0.86256444, 'bbox_orig_coords': (1240.0, 50.0, 1263.0, 773.0)}, {'pred_nr': 16, 'class_name': 'head', 'pred_score': 0.7421779, 'bbox_orig_coords': (387.0, 748.0, 409.0, 1313.0)}], 'relations': {'relations': [(5, 0, 'IS_PARENT_OF'), (5, 6, 'IS_PARENT_OF'), (5, 7, 'IS_PARENT_OF'), (5, 8, 'IS_PARENT_OF'), (5, 12, 'IS_PARENT_OF'), (9, 11, 'COMES_BEFORE'), (11, 1, 'COMES_BEFORE'), (1, 4, 'COMES_BEFORE'), (4, 14, 'COMES_BEFORE'), (14, 3, 'COMES_BEFORE'), (3, 5, 'COMES_BEFORE'), (5, 2, 'COMES_BEFORE'), (8, 12, 'COMES_BEFORE'), (12, 6, 'COMES_BEFORE'), (6, 7, 'COMES_BEFORE'), (7, 0, 'COMES_BEFORE')], 'flat_annotations': [{'id': 19, 'category': 'unk', 'parent': None}, {'id': 18, 'category': 'meta', 'parent': None}, {'id': 17, 'category': 'document', 'parent': None}, {'id': 16, 'parent': 18, 'category': 'head'}, {'id': 21, 'parent': 16, 'category': 'box', 'bbox': (748.0, 387.0, 565.0, 22.0), 'page': 0}, {'id': 13, 'parent': 18, 'category': 'page_nr'}, {'id': 22, 'parent': 13, 'category': 'box', 'bbox': (718.0, 1751.0, 16.0, 27.0), 'page': 0}, {'id': 9, 'parent': 17, 'category': 'heading'}, {'id': 23, 'parent': 9, 'category': 'box', 'bbox': (237.0, 203.0, 960.0, 47.0), 'page': 0}, {'id': 11, 'parent': 17, 'category': 'heading'}, {'id': 24, 'parent': 11, 'category': 'box', 'bbox': (111.0, 471.0, 585.0, 38.0), 'page': 0}, {'id': 1, 'parent': 17, 'category': 'abstract'}, {'id': 25, 'parent': 1, 'category': 'box', 'bbox': (74.0, 540.0, 664.0, 561.0), 'page': 0}, {'id': 4, 'parent': 17, 'category': 'heading'}, {'id': 26, 'parent': 4, 'category': 'box', 'bbox': (73.0, 1184.0, 656.0, 34.0), 'page': 0}, {'id': 14, 'parent': 17, 'category': 'heading'}, {'id': 27, 'parent': 14, 'category': 'box', 'bbox': (50.0, 1240.0, 723.0, 23.0), 'page': 0}, {'id': 3, 'parent': 17, 'category': 'content_block'}, {'id': 28, 'parent': 3, 'category': 'box', 'bbox': (121.0, 1261.0, 573.0, 418.0), 'page': 0}, {'id': 5, 'parent': 17, 'category': 'figure'}, {'id': 29, 'parent': 5, 'category': 'box', 'bbox': (733.0, 453.0, 636.0, 409.0), 'page': 0}, {'id': 2, 'parent': 17, 'category': 'content_block'}, {'id': 30, 'parent': 2, 'category': 'box', 'bbox': (737.0, 903.0, 611.0, 772.0), 'page': 0}, {'id': 8, 'parent': 5, 'category': 'figure_graphic'}, {'id': 31, 'parent': 8, 'category': 'box', 'bbox': (747.0, 476.0, 205.0, 232.0), 'page': 0}, {'id': 12, 'parent': 5, 'category': 'figure_graphic'}, {'id': 32, 'parent': 12, 'category': 'box', 'bbox': (747.0, 476.0, 605.0, 232.0), 'page': 0}, {'id': 6, 'parent': 5, 'category': 'figure_graphic'}, {'id': 33, 'parent': 6, 'category': 'box', 'bbox': (970.0, 502.0, 183.0, 189.0), 'page': 0}, {'id': 7, 'parent': 5, 'category': 'figure_graphic'}, {'id': 34, 'parent': 7, 'category': 'box', 'bbox': (1152.0, 515.0, 200.0, 181.0), 'page': 0}, {'id': 0, 'parent': 5, 'category': 'figure_caption'}, {'id': 35, 'parent': 0, 'category': 'box', 'bbox': (733.0, 750.0, 601.0, 112.0), 'page': 0}]}}]\n"
     ]
    }
   ],
   "source": [
    "# Debugging Purpose\n",
    "bento_svc = DocparserService()\n",
    "with open(\"sample.png\", \"rb\") as f:\n",
    "    bento_svc.pack(\"trackable\", os.path.join(SERVING_MODEL_PATH, str(VERSION_NUMBER)))\n",
    "    output = bento_svc.predict([f])\n",
    "print(output)"
   ]
  },
  {
   "cell_type": "code",
   "execution_count": 3,
   "metadata": {},
   "outputs": [],
   "source": [
    "# bento_svc = DocparserService()\n",
    "# bento_svc.pack(\"trackable\", \"serving_model/1\")\n",
    "# saved_path = bento_svc.save()"
   ]
  },
  {
   "cell_type": "code",
   "execution_count": null,
   "metadata": {},
   "outputs": [],
   "source": []
  }
 ]
}